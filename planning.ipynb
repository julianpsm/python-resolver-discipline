{
 "cells": [
  {
   "cell_type": "markdown",
   "id": "3f7b8747-adc9-4bb5-9a45-739c345fa865",
   "metadata": {},
   "source": [
    "# Planning"
   ]
  },
  {
   "cell_type": "markdown",
   "id": "cf75f61a-3ae8-4767-87cd-d2b76f48fb7a",
   "metadata": {},
   "source": [
    "- [ ] layout script\n",
    "- [ ] record video\n",
    "- [ ] take snapshots\n",
    "- [ ] make everything clear within a notebook\n",
    "    - not a .md file..."
   ]
  },
  {
   "cell_type": "code",
   "execution_count": null,
   "id": "c662b927-bad9-4f00-971f-2e3b27094406",
   "metadata": {},
   "outputs": [],
   "source": []
  }
 ],
 "metadata": {
  "kernelspec": {
   "display_name": "Python 3 (ipykernel)",
   "language": "python",
   "name": "python3"
  },
  "language_info": {
   "codemirror_mode": {
    "name": "ipython",
    "version": 3
   },
   "file_extension": ".py",
   "mimetype": "text/x-python",
   "name": "python",
   "nbconvert_exporter": "python",
   "pygments_lexer": "ipython3",
   "version": "3.9.10"
  }
 },
 "nbformat": 4,
 "nbformat_minor": 5
}
