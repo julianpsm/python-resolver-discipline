{
 "cells": [
  {
   "cell_type": "markdown",
   "id": "3f7b8747-adc9-4bb5-9a45-739c345fa865",
   "metadata": {},
   "source": [
    "# Planning"
   ]
  },
  {
   "cell_type": "markdown",
   "id": "cf75f61a-3ae8-4767-87cd-d2b76f48fb7a",
   "metadata": {},
   "source": [
    "- [ ] layout script\n",
    "- [ ] record video\n",
    "- [ ] take snapshots\n",
    "- [ ] make everything clear within a notebook\n",
    "    - not a .md file..."
   ]
  },
  {
   "cell_type": "markdown",
   "id": "d2d6b5d2-db89-4085-af0e-c44a07cac021",
   "metadata": {},
   "source": [
    "## Videos"
   ]
  },
  {
   "cell_type": "markdown",
   "id": "7b442e26-b039-40cd-af35-63b4cda55e49",
   "metadata": {},
   "source": [
    "1. explaining the discipline\n",
    "    - deduction\n",
    "    - google\n",
    "2. indexing [ ] & functions ()\n",
    "3. 02 dissecting the object like an onion\n",
    "    - what can you do with\n",
    "        - instance\n",
    "        - module\n",
    "        - function\n",
    "4. understand you may need to rethink the problem\n",
    "5. for loop method\n",
    "6. how to fork github & upload code\n",
    "7. how to download pandas_exercises & start with some\n",
    "    - df naming\n",
    "    - applying discipline\n",
    "        - deduction\n",
    "        - google\n",
    "    - don't get stuck in one exercise\n",
    "        - move on\n",
    "8. how to download & start using my repositories?"
   ]
  },
  {
   "cell_type": "code",
   "execution_count": null,
   "id": "0f5ae96b-fe41-47ce-bbc8-b5e0b704f7f7",
   "metadata": {},
   "outputs": [],
   "source": []
  }
 ],
 "metadata": {
  "kernelspec": {
   "display_name": "Python 3 (ipykernel)",
   "language": "python",
   "name": "python3"
  },
  "language_info": {
   "codemirror_mode": {
    "name": "ipython",
    "version": 3
   },
   "file_extension": ".py",
   "mimetype": "text/x-python",
   "name": "python",
   "nbconvert_exporter": "python",
   "pygments_lexer": "ipython3",
   "version": "3.9.7"
  }
 },
 "nbformat": 4,
 "nbformat_minor": 5
}
