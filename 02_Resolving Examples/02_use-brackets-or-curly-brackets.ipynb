{
 "cells": [
  {
   "cell_type": "markdown",
   "id": "5fb32b76-4c55-4666-bf77-e9fc06604d5b",
   "metadata": {},
   "source": [
    "## Indexing `object[index]`"
   ]
  },
  {
   "cell_type": "code",
   "execution_count": 48,
   "id": "254bb47c-6061-47b2-bf2b-139ec33711a5",
   "metadata": {},
   "outputs": [],
   "source": [
    "import pandas as pd"
   ]
  },
  {
   "cell_type": "code",
   "execution_count": 49,
   "id": "06a9fa49-8136-4221-95c1-20ffe3ff2007",
   "metadata": {},
   "outputs": [],
   "source": [
    "list_maths_grades = [6,5.3,7]"
   ]
  },
  {
   "cell_type": "code",
   "execution_count": 50,
   "id": "7d1dd7b3-5887-49e8-9f6c-f64caaf7889c",
   "metadata": {},
   "outputs": [],
   "source": [
    "dict_maths_grades = {'first': 6, 'second':5.3, 'third': 7}"
   ]
  },
  {
   "cell_type": "code",
   "execution_count": 51,
   "id": "b2add9c1-22d0-4c67-9387-ebf3228ea9a7",
   "metadata": {},
   "outputs": [],
   "source": [
    "series_maths_grades = pd.Series([6,5.3,7], name='maths_grades')"
   ]
  },
  {
   "cell_type": "markdown",
   "id": "e3d25ff4-1ac9-4d14-9785-4d2016a1c43f",
   "metadata": {},
   "source": [
    "### list"
   ]
  },
  {
   "cell_type": "code",
   "execution_count": 52,
   "id": "21de03a6-4901-4184-8d2a-4c33cb052017",
   "metadata": {},
   "outputs": [
    {
     "data": {
      "text/plain": [
       "[6, 5.3, 7]"
      ]
     },
     "execution_count": 52,
     "metadata": {},
     "output_type": "execute_result"
    }
   ],
   "source": [
    "list_maths_grades"
   ]
  },
  {
   "cell_type": "code",
   "execution_count": 53,
   "id": "6ba9d92c-22ff-46bb-989d-c5ede3174ef2",
   "metadata": {},
   "outputs": [
    {
     "data": {
      "text/plain": [
       "5.3"
      ]
     },
     "execution_count": 53,
     "metadata": {},
     "output_type": "execute_result"
    }
   ],
   "source": [
    "list_maths_grades[1]"
   ]
  },
  {
   "cell_type": "markdown",
   "id": "6f7ab7fc-7706-42db-ad93-749ce4c0172a",
   "metadata": {},
   "source": [
    "### dict"
   ]
  },
  {
   "cell_type": "code",
   "execution_count": 54,
   "id": "ee33357d-3929-48ce-8e51-1ebdebf64ac0",
   "metadata": {},
   "outputs": [
    {
     "data": {
      "text/plain": [
       "{'first': 6, 'second': 5.3, 'third': 7}"
      ]
     },
     "execution_count": 54,
     "metadata": {},
     "output_type": "execute_result"
    }
   ],
   "source": [
    "dict_maths_grades"
   ]
  },
  {
   "cell_type": "code",
   "execution_count": 55,
   "id": "e600ee63-7036-4d6d-ba99-635e614276ca",
   "metadata": {},
   "outputs": [
    {
     "ename": "KeyError",
     "evalue": "1",
     "output_type": "error",
     "traceback": [
      "\u001b[0;31m---------------------------------------------------------------------------\u001b[0m",
      "\u001b[0;31mKeyError\u001b[0m                                  Traceback (most recent call last)",
      "\u001b[0;32m/var/folders/24/tg28vxls25l9mjvqrnh0plc80000gn/T/ipykernel_60388/1301776298.py\u001b[0m in \u001b[0;36m<module>\u001b[0;34m\u001b[0m\n\u001b[0;32m----> 1\u001b[0;31m \u001b[0mdict_maths_grades\u001b[0m\u001b[0;34m[\u001b[0m\u001b[0;36m1\u001b[0m\u001b[0;34m]\u001b[0m\u001b[0;34m\u001b[0m\u001b[0;34m\u001b[0m\u001b[0m\n\u001b[0m",
      "\u001b[0;31mKeyError\u001b[0m: 1"
     ]
    }
   ],
   "source": [
    "dict_maths_grades[1]"
   ]
  },
  {
   "cell_type": "code",
   "execution_count": 56,
   "id": "6390a6a6-8a6e-41c0-950a-72bfc6d9ef11",
   "metadata": {},
   "outputs": [
    {
     "data": {
      "text/plain": [
       "5.3"
      ]
     },
     "execution_count": 56,
     "metadata": {},
     "output_type": "execute_result"
    }
   ],
   "source": [
    "dict_maths_grades['second']"
   ]
  },
  {
   "cell_type": "markdown",
   "id": "f67c631d-6f28-43e8-b691-da2f5439952d",
   "metadata": {},
   "source": [
    "### series"
   ]
  },
  {
   "cell_type": "code",
   "execution_count": 57,
   "id": "9736084b-e30f-4abb-80ec-a1b4cc577682",
   "metadata": {},
   "outputs": [
    {
     "data": {
      "text/plain": [
       "0    6.0\n",
       "1    5.3\n",
       "2    7.0\n",
       "Name: maths_grades, dtype: float64"
      ]
     },
     "execution_count": 57,
     "metadata": {},
     "output_type": "execute_result"
    }
   ],
   "source": [
    "series_maths_grades"
   ]
  },
  {
   "cell_type": "code",
   "execution_count": 58,
   "id": "df9b2a9d-a7e5-4175-9e36-653e3f38cafe",
   "metadata": {},
   "outputs": [
    {
     "data": {
      "text/plain": [
       "5.3"
      ]
     },
     "execution_count": 58,
     "metadata": {},
     "output_type": "execute_result"
    }
   ],
   "source": [
    "series_maths_grades[1]"
   ]
  },
  {
   "cell_type": "code",
   "execution_count": null,
   "id": "f18d006c-80c2-46e3-9736-f5c25b4a85a0",
   "metadata": {},
   "outputs": [],
   "source": []
  },
  {
   "cell_type": "markdown",
   "id": "dc8fea6c-05aa-49b5-8370-62a4e52483c5",
   "metadata": {},
   "source": [
    "## Functions `object.function()`"
   ]
  },
  {
   "cell_type": "markdown",
   "id": "43edced4-fcb9-4c12-bc6d-d773924d75ee",
   "metadata": {},
   "source": [
    "### list"
   ]
  },
  {
   "cell_type": "code",
   "execution_count": 64,
   "id": "8315b49e-02cc-4fd8-a817-d6cae64f3b69",
   "metadata": {},
   "outputs": [
    {
     "data": {
      "text/plain": [
       "[6, 5.3, 7, 9, 9]"
      ]
     },
     "execution_count": 64,
     "metadata": {},
     "output_type": "execute_result"
    }
   ],
   "source": [
    "list_maths_grades"
   ]
  },
  {
   "cell_type": "code",
   "execution_count": 65,
   "id": "5e0ac272-6fb8-447c-aa6b-82409e224f44",
   "metadata": {},
   "outputs": [],
   "source": [
    "list_maths_grades.append(9)"
   ]
  },
  {
   "cell_type": "code",
   "execution_count": 66,
   "id": "ed65d099-9ce7-49c4-b3c7-01af34d2ec38",
   "metadata": {},
   "outputs": [
    {
     "data": {
      "text/plain": [
       "[6, 5.3, 7, 9, 9, 9]"
      ]
     },
     "execution_count": 66,
     "metadata": {},
     "output_type": "execute_result"
    }
   ],
   "source": [
    "list_maths_grades"
   ]
  },
  {
   "cell_type": "markdown",
   "id": "15f1b8d8-6984-4ac9-a55e-103aefcc7654",
   "metadata": {},
   "source": [
    "### dict"
   ]
  },
  {
   "cell_type": "code",
   "execution_count": 67,
   "id": "bbcbf9ca-2274-4b7b-88ea-f7952ab836d3",
   "metadata": {},
   "outputs": [
    {
     "data": {
      "text/plain": [
       "{'first': 6, 'second': 5.3, 'third': 7}"
      ]
     },
     "execution_count": 67,
     "metadata": {},
     "output_type": "execute_result"
    }
   ],
   "source": [
    "dict_maths_grades"
   ]
  },
  {
   "cell_type": "code",
   "execution_count": 73,
   "id": "a9b852ab-8c3c-4ce7-95f2-79db42985700",
   "metadata": {},
   "outputs": [],
   "source": [
    "dict_maths_grades.update({'fourth': 3})"
   ]
  },
  {
   "cell_type": "code",
   "execution_count": 74,
   "id": "abcfc3db-379f-48fa-b0e4-f8e173aee734",
   "metadata": {},
   "outputs": [
    {
     "data": {
      "text/plain": [
       "{'first': 6, 'second': 5.3, 'third': 7, 'fourth': 3}"
      ]
     },
     "execution_count": 74,
     "metadata": {},
     "output_type": "execute_result"
    }
   ],
   "source": [
    "dict_maths_grades"
   ]
  },
  {
   "cell_type": "markdown",
   "id": "ea613a81-0401-46bb-8696-7347a1531223",
   "metadata": {},
   "source": [
    "### series"
   ]
  },
  {
   "cell_type": "code",
   "execution_count": 75,
   "id": "9a479c4c-7e26-4061-ac9f-2a5612f3cec7",
   "metadata": {},
   "outputs": [
    {
     "data": {
      "text/plain": [
       "0    6.0\n",
       "1    5.3\n",
       "2    7.0\n",
       "Name: maths_grades, dtype: float64"
      ]
     },
     "execution_count": 75,
     "metadata": {},
     "output_type": "execute_result"
    }
   ],
   "source": [
    "series_maths_grades"
   ]
  },
  {
   "cell_type": "code",
   "execution_count": 79,
   "id": "4694c7c4-31f6-4970-a0cb-da29f03715b3",
   "metadata": {},
   "outputs": [
    {
     "data": {
      "text/plain": [
       "0    6.0\n",
       "1    5.3\n",
       "2    7.0\n",
       "0    3.0\n",
       "dtype: float64"
      ]
     },
     "execution_count": 79,
     "metadata": {},
     "output_type": "execute_result"
    }
   ],
   "source": [
    "series_maths_grades.append(pd.Series(3))"
   ]
  }
 ],
 "metadata": {
  "kernelspec": {
   "display_name": "Python 3 (ipykernel)",
   "language": "python",
   "name": "python3"
  },
  "language_info": {
   "codemirror_mode": {
    "name": "ipython",
    "version": 3
   },
   "file_extension": ".py",
   "mimetype": "text/x-python",
   "name": "python",
   "nbconvert_exporter": "python",
   "pygments_lexer": "ipython3",
   "version": "3.9.7"
  }
 },
 "nbformat": 4,
 "nbformat_minor": 5
}
